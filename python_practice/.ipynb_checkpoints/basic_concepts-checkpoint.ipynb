{
 "cells": [
  {
   "cell_type": "markdown",
   "id": "87728334",
   "metadata": {},
   "source": [
    "### Indexing"
   ]
  },
  {
   "cell_type": "code",
   "execution_count": 1,
   "id": "a2565768",
   "metadata": {},
   "outputs": [],
   "source": [
    "x = \"string\""
   ]
  },
  {
   "cell_type": "code",
   "execution_count": 2,
   "id": "33bbe290",
   "metadata": {},
   "outputs": [
    {
     "data": {
      "text/plain": [
       "'s'"
      ]
     },
     "execution_count": 2,
     "metadata": {},
     "output_type": "execute_result"
    }
   ],
   "source": [
    "x[0]"
   ]
  },
  {
   "cell_type": "code",
   "execution_count": 3,
   "id": "b8a62587",
   "metadata": {},
   "outputs": [
    {
     "data": {
      "text/plain": [
       "'g'"
      ]
     },
     "execution_count": 3,
     "metadata": {},
     "output_type": "execute_result"
    }
   ],
   "source": [
    "x[-1]"
   ]
  },
  {
   "cell_type": "code",
   "execution_count": 4,
   "id": "0e86d40d",
   "metadata": {},
   "outputs": [
    {
     "data": {
      "text/plain": [
       "'string'"
      ]
     },
     "execution_count": 4,
     "metadata": {},
     "output_type": "execute_result"
    }
   ],
   "source": [
    "x[:]"
   ]
  },
  {
   "cell_type": "code",
   "execution_count": 5,
   "id": "087ead92",
   "metadata": {},
   "outputs": [
    {
     "data": {
      "text/plain": [
       "'tring'"
      ]
     },
     "execution_count": 5,
     "metadata": {},
     "output_type": "execute_result"
    }
   ],
   "source": [
    "x[1:]"
   ]
  },
  {
   "cell_type": "code",
   "execution_count": 6,
   "id": "f2842544",
   "metadata": {},
   "outputs": [
    {
     "data": {
      "text/plain": [
       "'strin'"
      ]
     },
     "execution_count": 6,
     "metadata": {},
     "output_type": "execute_result"
    }
   ],
   "source": [
    "x[:-1]"
   ]
  },
  {
   "cell_type": "code",
   "execution_count": 7,
   "id": "d384a3f5",
   "metadata": {},
   "outputs": [
    {
     "data": {
      "text/plain": [
       "'g'"
      ]
     },
     "execution_count": 7,
     "metadata": {},
     "output_type": "execute_result"
    }
   ],
   "source": [
    "x[-1:]"
   ]
  },
  {
   "cell_type": "code",
   "execution_count": 8,
   "id": "2259d859",
   "metadata": {},
   "outputs": [
    {
     "data": {
      "text/plain": [
       "'srn'"
      ]
     },
     "execution_count": 8,
     "metadata": {},
     "output_type": "execute_result"
    }
   ],
   "source": [
    "x[::2]"
   ]
  },
  {
   "cell_type": "markdown",
   "id": "2a4b33f7",
   "metadata": {},
   "source": [
    "### String Methods"
   ]
  },
  {
   "cell_type": "code",
   "execution_count": 9,
   "id": "ab75a599",
   "metadata": {},
   "outputs": [
    {
     "data": {
      "text/plain": [
       "'String'"
      ]
     },
     "execution_count": 9,
     "metadata": {},
     "output_type": "execute_result"
    }
   ],
   "source": [
    "x.capitalize()"
   ]
  },
  {
   "cell_type": "code",
   "execution_count": 10,
   "id": "169c7321",
   "metadata": {},
   "outputs": [
    {
     "data": {
      "text/plain": [
       "'string'"
      ]
     },
     "execution_count": 10,
     "metadata": {},
     "output_type": "execute_result"
    }
   ],
   "source": [
    "x"
   ]
  },
  {
   "cell_type": "code",
   "execution_count": 11,
   "id": "0b6f6a8b",
   "metadata": {},
   "outputs": [],
   "source": [
    "y = \"hello world\""
   ]
  },
  {
   "cell_type": "code",
   "execution_count": 12,
   "id": "56856625",
   "metadata": {},
   "outputs": [
    {
     "data": {
      "text/plain": [
       "['hello', 'world']"
      ]
     },
     "execution_count": 12,
     "metadata": {},
     "output_type": "execute_result"
    }
   ],
   "source": [
    "y.split()"
   ]
  },
  {
   "cell_type": "code",
   "execution_count": 13,
   "id": "a7c30020",
   "metadata": {},
   "outputs": [],
   "source": [
    "int = 123"
   ]
  },
  {
   "cell_type": "code",
   "execution_count": 14,
   "id": "5b6f44d5",
   "metadata": {},
   "outputs": [
    {
     "data": {
      "text/plain": [
       "<function int.to_bytes(length, byteorder, *, signed=False)>"
      ]
     },
     "execution_count": 14,
     "metadata": {},
     "output_type": "execute_result"
    }
   ],
   "source": [
    "int.to_bytes"
   ]
  },
  {
   "cell_type": "code",
   "execution_count": 15,
   "id": "5445597d",
   "metadata": {},
   "outputs": [
    {
     "ename": "TypeError",
     "evalue": "'str' object does not support item assignment",
     "output_type": "error",
     "traceback": [
      "\u001b[0;31m---------------------------------------------------------------------------\u001b[0m",
      "\u001b[0;31mTypeError\u001b[0m                                 Traceback (most recent call last)",
      "\u001b[0;32m/var/folders/8f/ld4jwvrx22b60_p6bqcyddyr0000gn/T/ipykernel_23748/1181347879.py\u001b[0m in \u001b[0;36m<module>\u001b[0;34m\u001b[0m\n\u001b[0;32m----> 1\u001b[0;31m \u001b[0mx\u001b[0m\u001b[0;34m[\u001b[0m\u001b[0;36m1\u001b[0m\u001b[0;34m]\u001b[0m \u001b[0;34m=\u001b[0m \u001b[0;36m3\u001b[0m \u001b[0;31m#strings are immutable\u001b[0m\u001b[0;34m\u001b[0m\u001b[0;34m\u001b[0m\u001b[0m\n\u001b[0m",
      "\u001b[0;31mTypeError\u001b[0m: 'str' object does not support item assignment"
     ]
    }
   ],
   "source": [
    "x[1] = 3 #strings are immutable"
   ]
  },
  {
   "cell_type": "code",
   "execution_count": 17,
   "id": "f4a56afa",
   "metadata": {},
   "outputs": [],
   "source": [
    "z = [5,2,6]"
   ]
  },
  {
   "cell_type": "code",
   "execution_count": 18,
   "id": "f0bf4f0c",
   "metadata": {},
   "outputs": [
    {
     "data": {
      "text/plain": [
       "[5, 2, 6]"
      ]
     },
     "execution_count": 18,
     "metadata": {},
     "output_type": "execute_result"
    }
   ],
   "source": [
    "z"
   ]
  },
  {
   "cell_type": "code",
   "execution_count": 19,
   "id": "0fb8de55",
   "metadata": {},
   "outputs": [],
   "source": [
    "z.append(8)"
   ]
  },
  {
   "cell_type": "code",
   "execution_count": 20,
   "id": "7ed1ed60",
   "metadata": {},
   "outputs": [
    {
     "data": {
      "text/plain": [
       "[5, 2, 6, 8]"
      ]
     },
     "execution_count": 20,
     "metadata": {},
     "output_type": "execute_result"
    }
   ],
   "source": [
    "z"
   ]
  },
  {
   "cell_type": "code",
   "execution_count": 21,
   "id": "a81d24d5",
   "metadata": {},
   "outputs": [
    {
     "data": {
      "text/plain": [
       "8"
      ]
     },
     "execution_count": 21,
     "metadata": {},
     "output_type": "execute_result"
    }
   ],
   "source": [
    "z.pop()"
   ]
  },
  {
   "cell_type": "code",
   "execution_count": 22,
   "id": "dccf4dfb",
   "metadata": {},
   "outputs": [
    {
     "data": {
      "text/plain": [
       "[5, 2, 6]"
      ]
     },
     "execution_count": 22,
     "metadata": {},
     "output_type": "execute_result"
    }
   ],
   "source": [
    "z"
   ]
  },
  {
   "cell_type": "code",
   "execution_count": 23,
   "id": "26eeab39",
   "metadata": {},
   "outputs": [],
   "source": [
    "z = [5,2,'int']"
   ]
  },
  {
   "cell_type": "code",
   "execution_count": 24,
   "id": "d9ddba30",
   "metadata": {},
   "outputs": [
    {
     "data": {
      "text/plain": [
       "'int'"
      ]
     },
     "execution_count": 24,
     "metadata": {},
     "output_type": "execute_result"
    }
   ],
   "source": [
    "z[-1]"
   ]
  },
  {
   "cell_type": "code",
   "execution_count": 25,
   "id": "a7272736",
   "metadata": {},
   "outputs": [
    {
     "data": {
      "text/plain": [
       "[5, 2, 'int', 5, 2, 'int']"
      ]
     },
     "execution_count": 25,
     "metadata": {},
     "output_type": "execute_result"
    }
   ],
   "source": [
    "z * 2"
   ]
  },
  {
   "cell_type": "markdown",
   "id": "9a819066",
   "metadata": {},
   "source": [
    "### Nested List"
   ]
  },
  {
   "cell_type": "code",
   "execution_count": 26,
   "id": "ca0260bb",
   "metadata": {},
   "outputs": [],
   "source": [
    "z = [5,2,[3,2]]"
   ]
  },
  {
   "cell_type": "code",
   "execution_count": 27,
   "id": "c30a84be",
   "metadata": {},
   "outputs": [
    {
     "data": {
      "text/plain": [
       "3"
      ]
     },
     "execution_count": 27,
     "metadata": {},
     "output_type": "execute_result"
    }
   ],
   "source": [
    "z[2][0]"
   ]
  },
  {
   "cell_type": "markdown",
   "id": "4dc279fc",
   "metadata": {},
   "source": [
    "### Dictionaries"
   ]
  },
  {
   "cell_type": "code",
   "execution_count": 28,
   "id": "3f842148",
   "metadata": {},
   "outputs": [],
   "source": [
    "a = {'key':'value'}"
   ]
  },
  {
   "cell_type": "code",
   "execution_count": 29,
   "id": "7784f5d4",
   "metadata": {},
   "outputs": [
    {
     "data": {
      "text/plain": [
       "{'key': 'value'}"
      ]
     },
     "execution_count": 29,
     "metadata": {},
     "output_type": "execute_result"
    }
   ],
   "source": [
    "a"
   ]
  },
  {
   "cell_type": "code",
   "execution_count": 30,
   "id": "95018f99",
   "metadata": {},
   "outputs": [
    {
     "data": {
      "text/plain": [
       "'value'"
      ]
     },
     "execution_count": 30,
     "metadata": {},
     "output_type": "execute_result"
    }
   ],
   "source": [
    "a['key']"
   ]
  },
  {
   "cell_type": "code",
   "execution_count": 31,
   "id": "a8186524",
   "metadata": {},
   "outputs": [],
   "source": [
    "b = {'run':100,20:200}"
   ]
  },
  {
   "cell_type": "code",
   "execution_count": 32,
   "id": "f6f8a3cb",
   "metadata": {},
   "outputs": [
    {
     "data": {
      "text/plain": [
       "100"
      ]
     },
     "execution_count": 32,
     "metadata": {},
     "output_type": "execute_result"
    }
   ],
   "source": [
    "b['run']"
   ]
  },
  {
   "cell_type": "code",
   "execution_count": 33,
   "id": "4b2edf99",
   "metadata": {},
   "outputs": [
    {
     "data": {
      "text/plain": [
       "200"
      ]
     },
     "execution_count": 33,
     "metadata": {},
     "output_type": "execute_result"
    }
   ],
   "source": [
    "b[20]"
   ]
  },
  {
   "cell_type": "code",
   "execution_count": 34,
   "id": "8237fd25",
   "metadata": {},
   "outputs": [],
   "source": [
    "example = {'key1':100,'key2':[10,20,30],'key3':{'a':5,'b':6}}"
   ]
  },
  {
   "cell_type": "code",
   "execution_count": 35,
   "id": "267a9bd0",
   "metadata": {},
   "outputs": [
    {
     "data": {
      "text/plain": [
       "dict_keys(['key1', 'key2', 'key3'])"
      ]
     },
     "execution_count": 35,
     "metadata": {},
     "output_type": "execute_result"
    }
   ],
   "source": [
    "example.keys()"
   ]
  },
  {
   "cell_type": "code",
   "execution_count": 36,
   "id": "e27c99b7",
   "metadata": {},
   "outputs": [
    {
     "data": {
      "text/plain": [
       "dict_values([100, [10, 20, 30], {'a': 5, 'b': 6}])"
      ]
     },
     "execution_count": 36,
     "metadata": {},
     "output_type": "execute_result"
    }
   ],
   "source": [
    "example.values()"
   ]
  },
  {
   "cell_type": "code",
   "execution_count": 37,
   "id": "6e80eef1",
   "metadata": {},
   "outputs": [
    {
     "data": {
      "text/plain": [
       "6"
      ]
     },
     "execution_count": 37,
     "metadata": {},
     "output_type": "execute_result"
    }
   ],
   "source": [
    "example['key3']['b']"
   ]
  },
  {
   "cell_type": "markdown",
   "id": "a9d64677",
   "metadata": {},
   "source": [
    "### Sets"
   ]
  },
  {
   "cell_type": "code",
   "execution_count": 38,
   "id": "66dc6dcb",
   "metadata": {},
   "outputs": [],
   "source": [
    "my_list = [1,2,3,1]"
   ]
  },
  {
   "cell_type": "code",
   "execution_count": 39,
   "id": "74886ff9",
   "metadata": {},
   "outputs": [
    {
     "data": {
      "text/plain": [
       "[1, 2, 3, 1]"
      ]
     },
     "execution_count": 39,
     "metadata": {},
     "output_type": "execute_result"
    }
   ],
   "source": [
    "my_list"
   ]
  },
  {
   "cell_type": "markdown",
   "id": "1a6148f6",
   "metadata": {},
   "source": [
    "Casting"
   ]
  },
  {
   "cell_type": "code",
   "execution_count": 40,
   "id": "245dd354",
   "metadata": {},
   "outputs": [],
   "source": [
    "my_set = set(my_list)"
   ]
  },
  {
   "cell_type": "code",
   "execution_count": 41,
   "id": "d2ed084c",
   "metadata": {},
   "outputs": [
    {
     "data": {
      "text/plain": [
       "{1, 2, 3}"
      ]
     },
     "execution_count": 41,
     "metadata": {},
     "output_type": "execute_result"
    }
   ],
   "source": [
    "my_set"
   ]
  },
  {
   "cell_type": "code",
   "execution_count": 42,
   "id": "0f954b45",
   "metadata": {},
   "outputs": [],
   "source": [
    "my_set_2 = {1,2,3,1}"
   ]
  },
  {
   "cell_type": "code",
   "execution_count": 43,
   "id": "af5495e0",
   "metadata": {},
   "outputs": [
    {
     "data": {
      "text/plain": [
       "{1, 2, 3}"
      ]
     },
     "execution_count": 43,
     "metadata": {},
     "output_type": "execute_result"
    }
   ],
   "source": [
    "my_set_2"
   ]
  },
  {
   "cell_type": "code",
   "execution_count": 44,
   "id": "57e927e1",
   "metadata": {},
   "outputs": [
    {
     "data": {
      "text/plain": [
       "set"
      ]
     },
     "execution_count": 44,
     "metadata": {},
     "output_type": "execute_result"
    }
   ],
   "source": [
    "type(my_set_2)"
   ]
  },
  {
   "cell_type": "code",
   "execution_count": 45,
   "id": "c0991e9c",
   "metadata": {},
   "outputs": [],
   "source": [
    "empty = {}"
   ]
  },
  {
   "cell_type": "code",
   "execution_count": 46,
   "id": "0a0da293",
   "metadata": {},
   "outputs": [
    {
     "data": {
      "text/plain": [
       "dict"
      ]
     },
     "execution_count": 46,
     "metadata": {},
     "output_type": "execute_result"
    }
   ],
   "source": [
    "type(empty)"
   ]
  },
  {
   "cell_type": "code",
   "execution_count": 47,
   "id": "0a00463b",
   "metadata": {},
   "outputs": [],
   "source": [
    "empty['key1'] = 1"
   ]
  },
  {
   "cell_type": "code",
   "execution_count": 48,
   "id": "94a24855",
   "metadata": {},
   "outputs": [
    {
     "data": {
      "text/plain": [
       "{'key1': 1}"
      ]
     },
     "execution_count": 48,
     "metadata": {},
     "output_type": "execute_result"
    }
   ],
   "source": [
    "empty"
   ]
  },
  {
   "cell_type": "code",
   "execution_count": 49,
   "id": "dbe46f27",
   "metadata": {},
   "outputs": [],
   "source": [
    "empty = set()"
   ]
  },
  {
   "cell_type": "code",
   "execution_count": 50,
   "id": "3f6aa972",
   "metadata": {},
   "outputs": [],
   "source": [
    "empty.add(1)"
   ]
  },
  {
   "cell_type": "code",
   "execution_count": 51,
   "id": "be27b110",
   "metadata": {},
   "outputs": [
    {
     "data": {
      "text/plain": [
       "{1}"
      ]
     },
     "execution_count": 51,
     "metadata": {},
     "output_type": "execute_result"
    }
   ],
   "source": [
    "empty"
   ]
  },
  {
   "cell_type": "code",
   "execution_count": 52,
   "id": "d7ba46f2",
   "metadata": {},
   "outputs": [],
   "source": [
    "dictionary = dict()"
   ]
  },
  {
   "cell_type": "code",
   "execution_count": 53,
   "id": "b3ce458a",
   "metadata": {},
   "outputs": [
    {
     "data": {
      "text/plain": [
       "{}"
      ]
     },
     "execution_count": 53,
     "metadata": {},
     "output_type": "execute_result"
    }
   ],
   "source": [
    "dictionary"
   ]
  },
  {
   "cell_type": "markdown",
   "id": "aa8f47a0",
   "metadata": {},
   "source": [
    "### Tuples"
   ]
  },
  {
   "cell_type": "code",
   "execution_count": 54,
   "id": "df3a7175",
   "metadata": {},
   "outputs": [],
   "source": [
    "my_list = ['a',1,'c']"
   ]
  },
  {
   "cell_type": "code",
   "execution_count": 55,
   "id": "4f0e7cc6",
   "metadata": {},
   "outputs": [],
   "source": [
    "my_list[0] = 'b'"
   ]
  },
  {
   "cell_type": "code",
   "execution_count": 56,
   "id": "b4dd0d55",
   "metadata": {},
   "outputs": [
    {
     "data": {
      "text/plain": [
       "['b', 1, 'c']"
      ]
     },
     "execution_count": 56,
     "metadata": {},
     "output_type": "execute_result"
    }
   ],
   "source": [
    "my_list"
   ]
  },
  {
   "cell_type": "code",
   "execution_count": 57,
   "id": "a2146cf4",
   "metadata": {},
   "outputs": [],
   "source": [
    "my_tuple = ('a',1,'c')"
   ]
  },
  {
   "cell_type": "code",
   "execution_count": 58,
   "id": "4b3d258d",
   "metadata": {},
   "outputs": [
    {
     "data": {
      "text/plain": [
       "'a'"
      ]
     },
     "execution_count": 58,
     "metadata": {},
     "output_type": "execute_result"
    }
   ],
   "source": [
    "my_tuple[0]"
   ]
  },
  {
   "cell_type": "code",
   "execution_count": 59,
   "id": "fcc1b024",
   "metadata": {},
   "outputs": [
    {
     "ename": "TypeError",
     "evalue": "'tuple' object does not support item assignment",
     "output_type": "error",
     "traceback": [
      "\u001b[0;31m---------------------------------------------------------------------------\u001b[0m",
      "\u001b[0;31mTypeError\u001b[0m                                 Traceback (most recent call last)",
      "\u001b[0;32m/var/folders/8f/ld4jwvrx22b60_p6bqcyddyr0000gn/T/ipykernel_23748/1230362431.py\u001b[0m in \u001b[0;36m<module>\u001b[0;34m\u001b[0m\n\u001b[0;32m----> 1\u001b[0;31m \u001b[0mmy_tuple\u001b[0m\u001b[0;34m[\u001b[0m\u001b[0;36m0\u001b[0m\u001b[0;34m]\u001b[0m \u001b[0;34m=\u001b[0m \u001b[0;34m'b'\u001b[0m\u001b[0;34m\u001b[0m\u001b[0;34m\u001b[0m\u001b[0m\n\u001b[0m",
      "\u001b[0;31mTypeError\u001b[0m: 'tuple' object does not support item assignment"
     ]
    }
   ],
   "source": [
    "my_tuple[0] = 'b'"
   ]
  },
  {
   "cell_type": "code",
   "execution_count": 60,
   "id": "3e4e96b8",
   "metadata": {},
   "outputs": [],
   "source": [
    "my_tuple_2 = (1,1,1,'a','c')"
   ]
  },
  {
   "cell_type": "code",
   "execution_count": 61,
   "id": "dea1bde3",
   "metadata": {},
   "outputs": [
    {
     "data": {
      "text/plain": [
       "3"
      ]
     },
     "execution_count": 61,
     "metadata": {},
     "output_type": "execute_result"
    }
   ],
   "source": [
    "my_tuple_2.count(1)"
   ]
  },
  {
   "cell_type": "code",
   "execution_count": 62,
   "id": "0257a7ea",
   "metadata": {},
   "outputs": [
    {
     "data": {
      "text/plain": [
       "3"
      ]
     },
     "execution_count": 62,
     "metadata": {},
     "output_type": "execute_result"
    }
   ],
   "source": [
    "my_tuple_2.index('a')"
   ]
  },
  {
   "cell_type": "code",
   "execution_count": 63,
   "id": "5e0f3c21",
   "metadata": {},
   "outputs": [
    {
     "data": {
      "text/plain": [
       "0"
      ]
     },
     "execution_count": 63,
     "metadata": {},
     "output_type": "execute_result"
    }
   ],
   "source": [
    "my_tuple_2.index(1)"
   ]
  },
  {
   "cell_type": "markdown",
   "id": "8b4b30e5",
   "metadata": {},
   "source": [
    "### Logical Comparisons"
   ]
  },
  {
   "cell_type": "code",
   "execution_count": 64,
   "id": "353f496e",
   "metadata": {},
   "outputs": [],
   "source": [
    "x=5 "
   ]
  },
  {
   "cell_type": "code",
   "execution_count": 65,
   "id": "9bf50f87",
   "metadata": {},
   "outputs": [],
   "source": [
    "y=4"
   ]
  },
  {
   "cell_type": "code",
   "execution_count": 66,
   "id": "afd01a28",
   "metadata": {},
   "outputs": [
    {
     "data": {
      "text/plain": [
       "True"
      ]
     },
     "execution_count": 66,
     "metadata": {},
     "output_type": "execute_result"
    }
   ],
   "source": [
    "x>y"
   ]
  },
  {
   "cell_type": "code",
   "execution_count": 67,
   "id": "f0d53e57",
   "metadata": {},
   "outputs": [
    {
     "data": {
      "text/plain": [
       "False"
      ]
     },
     "execution_count": 67,
     "metadata": {},
     "output_type": "execute_result"
    }
   ],
   "source": [
    "x<y"
   ]
  },
  {
   "cell_type": "code",
   "execution_count": 68,
   "id": "5bd819e7",
   "metadata": {},
   "outputs": [
    {
     "data": {
      "text/plain": [
       "True"
      ]
     },
     "execution_count": 68,
     "metadata": {},
     "output_type": "execute_result"
    }
   ],
   "source": [
    "x>=y"
   ]
  },
  {
   "cell_type": "code",
   "execution_count": 69,
   "id": "1362efed",
   "metadata": {},
   "outputs": [
    {
     "data": {
      "text/plain": [
       "True"
      ]
     },
     "execution_count": 69,
     "metadata": {},
     "output_type": "execute_result"
    }
   ],
   "source": [
    "x>=5"
   ]
  },
  {
   "cell_type": "code",
   "execution_count": 70,
   "id": "c2483abe",
   "metadata": {},
   "outputs": [
    {
     "data": {
      "text/plain": [
       "True"
      ]
     },
     "execution_count": 70,
     "metadata": {},
     "output_type": "execute_result"
    }
   ],
   "source": [
    "x>=5.0"
   ]
  },
  {
   "cell_type": "code",
   "execution_count": 71,
   "id": "8a40e695",
   "metadata": {},
   "outputs": [
    {
     "data": {
      "text/plain": [
       "False"
      ]
     },
     "execution_count": 71,
     "metadata": {},
     "output_type": "execute_result"
    }
   ],
   "source": [
    "x>=5.1"
   ]
  },
  {
   "cell_type": "code",
   "execution_count": 72,
   "id": "523ec0e8",
   "metadata": {},
   "outputs": [],
   "source": [
    "x=y"
   ]
  },
  {
   "cell_type": "code",
   "execution_count": 73,
   "id": "cd941c08",
   "metadata": {},
   "outputs": [
    {
     "data": {
      "text/plain": [
       "4"
      ]
     },
     "execution_count": 73,
     "metadata": {},
     "output_type": "execute_result"
    }
   ],
   "source": [
    "x"
   ]
  },
  {
   "cell_type": "code",
   "execution_count": 74,
   "id": "28ac5299",
   "metadata": {},
   "outputs": [
    {
     "data": {
      "text/plain": [
       "True"
      ]
     },
     "execution_count": 74,
     "metadata": {},
     "output_type": "execute_result"
    }
   ],
   "source": [
    "x==y"
   ]
  },
  {
   "cell_type": "code",
   "execution_count": 75,
   "id": "b80c4bc1",
   "metadata": {},
   "outputs": [],
   "source": [
    "x=5"
   ]
  },
  {
   "cell_type": "code",
   "execution_count": 76,
   "id": "fdb9361f",
   "metadata": {},
   "outputs": [
    {
     "data": {
      "text/plain": [
       "False"
      ]
     },
     "execution_count": 76,
     "metadata": {},
     "output_type": "execute_result"
    }
   ],
   "source": [
    "x==y"
   ]
  },
  {
   "cell_type": "code",
   "execution_count": 77,
   "id": "7b2e4325",
   "metadata": {},
   "outputs": [
    {
     "data": {
      "text/plain": [
       "True"
      ]
     },
     "execution_count": 77,
     "metadata": {},
     "output_type": "execute_result"
    }
   ],
   "source": [
    "x!=y"
   ]
  },
  {
   "cell_type": "code",
   "execution_count": 78,
   "id": "35253df0",
   "metadata": {},
   "outputs": [
    {
     "data": {
      "text/plain": [
       "True"
      ]
     },
     "execution_count": 78,
     "metadata": {},
     "output_type": "execute_result"
    }
   ],
   "source": [
    "2>1 and 3>2"
   ]
  },
  {
   "cell_type": "code",
   "execution_count": 79,
   "id": "be6530c6",
   "metadata": {},
   "outputs": [
    {
     "data": {
      "text/plain": [
       "False"
      ]
     },
     "execution_count": 79,
     "metadata": {},
     "output_type": "execute_result"
    }
   ],
   "source": [
    "2<1 and 3>2"
   ]
  },
  {
   "cell_type": "code",
   "execution_count": 80,
   "id": "184ea959",
   "metadata": {},
   "outputs": [
    {
     "data": {
      "text/plain": [
       "True"
      ]
     },
     "execution_count": 80,
     "metadata": {},
     "output_type": "execute_result"
    }
   ],
   "source": [
    "2<1 or 3>2"
   ]
  },
  {
   "cell_type": "code",
   "execution_count": 81,
   "id": "a5509646",
   "metadata": {},
   "outputs": [
    {
     "data": {
      "text/plain": [
       "False"
      ]
     },
     "execution_count": 81,
     "metadata": {},
     "output_type": "execute_result"
    }
   ],
   "source": [
    "not 10 == 10"
   ]
  },
  {
   "cell_type": "markdown",
   "id": "1c484897",
   "metadata": {},
   "source": [
    "### If Statements"
   ]
  },
  {
   "cell_type": "code",
   "execution_count": 82,
   "id": "a166255c",
   "metadata": {},
   "outputs": [],
   "source": [
    "x=4"
   ]
  },
  {
   "cell_type": "code",
   "execution_count": 83,
   "id": "63a76eb9",
   "metadata": {},
   "outputs": [],
   "source": [
    "y=4"
   ]
  },
  {
   "cell_type": "code",
   "execution_count": 84,
   "id": "be95ffef",
   "metadata": {},
   "outputs": [
    {
     "name": "stdout",
     "output_type": "stream",
     "text": [
      "x is y\n"
     ]
    }
   ],
   "source": [
    "if x>y:\n",
    "    print('x is greater')\n",
    "elif x==y:\n",
    "    print('x is y')\n",
    "else:\n",
    "    print('y is greater')"
   ]
  },
  {
   "cell_type": "markdown",
   "id": "678dd7f4",
   "metadata": {},
   "source": [
    "### For Loop"
   ]
  },
  {
   "cell_type": "code",
   "execution_count": 85,
   "id": "c2c50c37",
   "metadata": {},
   "outputs": [],
   "source": [
    "my_list = [1,2,3,4,5]"
   ]
  },
  {
   "cell_type": "code",
   "execution_count": 86,
   "id": "1208aa4d",
   "metadata": {},
   "outputs": [
    {
     "name": "stdout",
     "output_type": "stream",
     "text": [
      "bruh\n",
      "bruh\n",
      "bruh\n",
      "bruh\n",
      "bruh\n"
     ]
    }
   ],
   "source": [
    "for number in my_list:\n",
    "    print('bruh')"
   ]
  },
  {
   "cell_type": "code",
   "execution_count": 87,
   "id": "3da2afb5",
   "metadata": {},
   "outputs": [
    {
     "name": "stdout",
     "output_type": "stream",
     "text": [
      "5\n",
      "10\n",
      "15\n",
      "20\n",
      "25\n"
     ]
    }
   ],
   "source": [
    "for item in my_list:\n",
    "    new_number = item*5\n",
    "    print(new_number)"
   ]
  },
  {
   "cell_type": "code",
   "execution_count": 88,
   "id": "e6f6dcbb",
   "metadata": {},
   "outputs": [],
   "source": [
    "my_string = 'James'"
   ]
  },
  {
   "cell_type": "code",
   "execution_count": 89,
   "id": "e34330a8",
   "metadata": {},
   "outputs": [
    {
     "name": "stdout",
     "output_type": "stream",
     "text": [
      "J\n",
      "a\n",
      "m\n",
      "e\n",
      "s\n"
     ]
    }
   ],
   "source": [
    "for letter in my_string:\n",
    "    print(letter)"
   ]
  },
  {
   "cell_type": "code",
   "execution_count": 90,
   "id": "04985897",
   "metadata": {},
   "outputs": [],
   "source": [
    "my_tuple = (1,2,3)"
   ]
  },
  {
   "cell_type": "code",
   "execution_count": 91,
   "id": "6d4d0bae",
   "metadata": {},
   "outputs": [
    {
     "name": "stdout",
     "output_type": "stream",
     "text": [
      "-5\n",
      "0\n",
      "5\n"
     ]
    }
   ],
   "source": [
    "for item in my_tuple:\n",
    "    print(item*5-10)"
   ]
  },
  {
   "cell_type": "markdown",
   "id": "3d95ebd6",
   "metadata": {},
   "source": [
    "### Break, Continue, and Pass"
   ]
  },
  {
   "cell_type": "code",
   "execution_count": 92,
   "id": "1076d147",
   "metadata": {},
   "outputs": [],
   "source": [
    "my_list = [10,20,30,40,50,60]"
   ]
  },
  {
   "cell_type": "code",
   "execution_count": 93,
   "id": "45a45dc9",
   "metadata": {},
   "outputs": [
    {
     "name": "stdout",
     "output_type": "stream",
     "text": [
      "10\n",
      "20\n",
      "30\n",
      "40\n",
      "50\n",
      "60\n"
     ]
    }
   ],
   "source": [
    "for number in my_list:\n",
    "    print(number)"
   ]
  },
  {
   "cell_type": "code",
   "execution_count": 94,
   "id": "5e8093f6",
   "metadata": {},
   "outputs": [
    {
     "name": "stdout",
     "output_type": "stream",
     "text": [
      "50\n",
      "100\n"
     ]
    }
   ],
   "source": [
    "for num in my_list:\n",
    "    if num ==30:\n",
    "        break\n",
    "    print(num*5)"
   ]
  },
  {
   "cell_type": "code",
   "execution_count": 95,
   "id": "2f850fcc",
   "metadata": {},
   "outputs": [
    {
     "name": "stdout",
     "output_type": "stream",
     "text": [
      "50\n",
      "100\n",
      "200\n",
      "250\n",
      "300\n"
     ]
    }
   ],
   "source": [
    "for item in my_list:\n",
    "    if item == 30: #skips 30\n",
    "        continue\n",
    "    print(item*5)"
   ]
  },
  {
   "cell_type": "code",
   "execution_count": 96,
   "id": "1bc1383b",
   "metadata": {},
   "outputs": [],
   "source": [
    "for no in my_list:\n",
    "    pass #avoid getting problems/errors while coding"
   ]
  },
  {
   "cell_type": "markdown",
   "id": "a4875923",
   "metadata": {},
   "source": [
    "### Useful Methods"
   ]
  },
  {
   "cell_type": "code",
   "execution_count": 97,
   "id": "9d2c748b",
   "metadata": {},
   "outputs": [],
   "source": [
    "my_list = [1,2,3,4,5,6,7]"
   ]
  },
  {
   "cell_type": "code",
   "execution_count": 98,
   "id": "6298ac30",
   "metadata": {},
   "outputs": [
    {
     "name": "stdout",
     "output_type": "stream",
     "text": [
      "1\n",
      "2\n",
      "3\n",
      "4\n",
      "5\n",
      "6\n",
      "7\n"
     ]
    }
   ],
   "source": [
    "for number in my_list:\n",
    "    print(number)"
   ]
  },
  {
   "cell_type": "markdown",
   "id": "ee0047db",
   "metadata": {},
   "source": [
    "*Range*"
   ]
  },
  {
   "cell_type": "code",
   "execution_count": 99,
   "id": "5571e119",
   "metadata": {},
   "outputs": [
    {
     "data": {
      "text/plain": [
       "range(0, 20)"
      ]
     },
     "execution_count": 99,
     "metadata": {},
     "output_type": "execute_result"
    }
   ],
   "source": [
    "range(20)"
   ]
  },
  {
   "cell_type": "code",
   "execution_count": 101,
   "id": "cfa7afeb",
   "metadata": {},
   "outputs": [
    {
     "name": "stdout",
     "output_type": "stream",
     "text": [
      "5\n",
      "8\n",
      "11\n",
      "14\n",
      "17\n",
      "20\n"
     ]
    }
   ],
   "source": [
    "for num in list(range(5,21,3)):\n",
    "    print(num)"
   ]
  },
  {
   "cell_type": "markdown",
   "id": "84241267",
   "metadata": {},
   "source": [
    "*Enumerate*"
   ]
  },
  {
   "cell_type": "code",
   "execution_count": 102,
   "id": "b3474eaf",
   "metadata": {},
   "outputs": [
    {
     "name": "stdout",
     "output_type": "stream",
     "text": [
      "no: 0 ix: 0\n",
      "no: 1 ix: 1\n",
      "no: 2 ix: 2\n",
      "no: 3 ix: 3\n",
      "no: 4 ix: 4\n",
      "no: 5 ix: 5\n",
      "no: 6 ix: 6\n",
      "no: 7 ix: 7\n",
      "no: 8 ix: 8\n",
      "no: 9 ix: 9\n"
     ]
    }
   ],
   "source": [
    "index = 0\n",
    "for number in list(range(0,10)):\n",
    "    print(f\"no: {number} ix: {index}\")\n",
    "    index+=1"
   ]
  },
  {
   "cell_type": "code",
   "execution_count": 103,
   "id": "cec7f475",
   "metadata": {},
   "outputs": [
    {
     "name": "stdout",
     "output_type": "stream",
     "text": [
      "(0, 5)\n",
      "(1, 6)\n",
      "(2, 7)\n",
      "(3, 8)\n",
      "(4, 9)\n",
      "(5, 10)\n",
      "(6, 11)\n",
      "(7, 12)\n",
      "(8, 13)\n",
      "(9, 14)\n"
     ]
    }
   ],
   "source": [
    "for element in enumerate(list(range(5,15))):\n",
    "    print(element) #first number index, second number is element of list"
   ]
  },
  {
   "cell_type": "code",
   "execution_count": 104,
   "id": "50a354a9",
   "metadata": {},
   "outputs": [
    {
     "name": "stdout",
     "output_type": "stream",
     "text": [
      "0\n",
      "5\n",
      "1\n",
      "6\n",
      "2\n",
      "7\n",
      "3\n",
      "8\n",
      "4\n",
      "9\n",
      "5\n",
      "10\n",
      "6\n",
      "11\n",
      "7\n",
      "12\n",
      "8\n",
      "13\n",
      "9\n",
      "14\n"
     ]
    }
   ],
   "source": [
    "for (index,number) in enumerate(list(range(5,15))):\n",
    "    print(index)\n",
    "    print(number)"
   ]
  },
  {
   "cell_type": "markdown",
   "id": "e0961c5b",
   "metadata": {},
   "source": [
    "### random "
   ]
  },
  {
   "cell_type": "code",
   "execution_count": 105,
   "id": "dee9a21a",
   "metadata": {},
   "outputs": [],
   "source": [
    "from random import randint #take randint portion of the library random"
   ]
  },
  {
   "cell_type": "code",
   "execution_count": 106,
   "id": "0c7590a3",
   "metadata": {},
   "outputs": [
    {
     "data": {
      "text/plain": [
       "98"
      ]
     },
     "execution_count": 106,
     "metadata": {},
     "output_type": "execute_result"
    }
   ],
   "source": [
    "randint(0,1000) #create random number between 0 and 1000"
   ]
  },
  {
   "cell_type": "code",
   "execution_count": 107,
   "id": "734c9fb6",
   "metadata": {},
   "outputs": [],
   "source": [
    "my_list_2 = list(range(0,10))"
   ]
  },
  {
   "cell_type": "code",
   "execution_count": 108,
   "id": "41c19951",
   "metadata": {},
   "outputs": [
    {
     "data": {
      "text/plain": [
       "[0, 1, 2, 3, 4, 5, 6, 7, 8, 9]"
      ]
     },
     "execution_count": 108,
     "metadata": {},
     "output_type": "execute_result"
    }
   ],
   "source": [
    "my_list_2"
   ]
  },
  {
   "cell_type": "code",
   "execution_count": 109,
   "id": "c8bf8b5f",
   "metadata": {},
   "outputs": [],
   "source": [
    "from random import shuffle"
   ]
  },
  {
   "cell_type": "code",
   "execution_count": 110,
   "id": "df1c9e46",
   "metadata": {},
   "outputs": [],
   "source": [
    "shuffle(my_list_2)"
   ]
  },
  {
   "cell_type": "code",
   "execution_count": 111,
   "id": "6b5f1fff",
   "metadata": {},
   "outputs": [
    {
     "data": {
      "text/plain": [
       "[3, 2, 9, 1, 6, 4, 0, 5, 8, 7]"
      ]
     },
     "execution_count": 111,
     "metadata": {},
     "output_type": "execute_result"
    }
   ],
   "source": [
    "my_list_2"
   ]
  },
  {
   "cell_type": "markdown",
   "id": "592bcd1f",
   "metadata": {},
   "source": [
    "### zip"
   ]
  },
  {
   "cell_type": "code",
   "execution_count": 112,
   "id": "bdff934f",
   "metadata": {},
   "outputs": [],
   "source": [
    "sport_list = ['run','swim','basketball']"
   ]
  },
  {
   "cell_type": "code",
   "execution_count": 113,
   "id": "db971147",
   "metadata": {},
   "outputs": [],
   "source": [
    "calories_list = [100,200,300]"
   ]
  },
  {
   "cell_type": "code",
   "execution_count": 114,
   "id": "55de9aac",
   "metadata": {},
   "outputs": [],
   "source": [
    "day_list = ['monday','tuesday','wednesday']"
   ]
  },
  {
   "cell_type": "code",
   "execution_count": 115,
   "id": "f4ddf5e0",
   "metadata": {},
   "outputs": [
    {
     "data": {
      "text/plain": [
       "<zip at 0x7f7a68dfe200>"
      ]
     },
     "execution_count": 115,
     "metadata": {},
     "output_type": "execute_result"
    }
   ],
   "source": [
    "zip(sport_list,calories_list,day_list)"
   ]
  },
  {
   "cell_type": "code",
   "execution_count": 116,
   "id": "6678aec4",
   "metadata": {},
   "outputs": [],
   "source": [
    "new_list = list(zip(sport_list,calories_list,day_list))"
   ]
  },
  {
   "cell_type": "code",
   "execution_count": 117,
   "id": "ff9205e4",
   "metadata": {},
   "outputs": [
    {
     "data": {
      "text/plain": [
       "[('run', 100, 'monday'),\n",
       " ('swim', 200, 'tuesday'),\n",
       " ('basketball', 300, 'wednesday')]"
      ]
     },
     "execution_count": 117,
     "metadata": {},
     "output_type": "execute_result"
    }
   ],
   "source": [
    "new_list"
   ]
  },
  {
   "cell_type": "code",
   "execution_count": 118,
   "id": "ed0d7752",
   "metadata": {},
   "outputs": [
    {
     "name": "stdout",
     "output_type": "stream",
     "text": [
      "('run', 100, 'monday')\n",
      "('swim', 200, 'tuesday')\n",
      "('basketball', 300, 'wednesday')\n"
     ]
    }
   ],
   "source": [
    "for element in new_list:\n",
    "    print(element)"
   ]
  },
  {
   "cell_type": "markdown",
   "id": "bbb8d2fc",
   "metadata": {},
   "source": [
    "### List Advanced"
   ]
  },
  {
   "cell_type": "code",
   "execution_count": 119,
   "id": "21b8df81",
   "metadata": {},
   "outputs": [],
   "source": [
    "new_list = []"
   ]
  },
  {
   "cell_type": "code",
   "execution_count": 120,
   "id": "d9b62275",
   "metadata": {},
   "outputs": [],
   "source": [
    "new_list.append(1)"
   ]
  },
  {
   "cell_type": "code",
   "execution_count": 121,
   "id": "e2d30ea3",
   "metadata": {},
   "outputs": [
    {
     "data": {
      "text/plain": [
       "[1]"
      ]
     },
     "execution_count": 121,
     "metadata": {},
     "output_type": "execute_result"
    }
   ],
   "source": [
    "new_list"
   ]
  },
  {
   "cell_type": "code",
   "execution_count": 122,
   "id": "75122cab",
   "metadata": {},
   "outputs": [],
   "source": [
    "new_list = []\n",
    "my_string = 'metallica'\n",
    "\n",
    "for element in my_string:\n",
    "    new_list.append(element)"
   ]
  },
  {
   "cell_type": "code",
   "execution_count": 123,
   "id": "841d4d03",
   "metadata": {},
   "outputs": [
    {
     "data": {
      "text/plain": [
       "['m', 'e', 't', 'a', 'l', 'l', 'i', 'c', 'a']"
      ]
     },
     "execution_count": 123,
     "metadata": {},
     "output_type": "execute_result"
    }
   ],
   "source": [
    "new_list"
   ]
  },
  {
   "cell_type": "code",
   "execution_count": 124,
   "id": "3e149167",
   "metadata": {},
   "outputs": [],
   "source": [
    "new_list = [element for element in my_string]"
   ]
  },
  {
   "cell_type": "code",
   "execution_count": 125,
   "id": "f58d409f",
   "metadata": {},
   "outputs": [
    {
     "data": {
      "text/plain": [
       "['m', 'e', 't', 'a', 'l', 'l', 'i', 'c', 'a']"
      ]
     },
     "execution_count": 125,
     "metadata": {},
     "output_type": "execute_result"
    }
   ],
   "source": [
    "new_list"
   ]
  },
  {
   "cell_type": "code",
   "execution_count": 126,
   "id": "2809ff91",
   "metadata": {},
   "outputs": [],
   "source": [
    "new_list_2 = [number for number in list(range(0,10))]"
   ]
  },
  {
   "cell_type": "code",
   "execution_count": 127,
   "id": "1a65a95b",
   "metadata": {},
   "outputs": [
    {
     "data": {
      "text/plain": [
       "[0, 1, 2, 3, 4, 5, 6, 7, 8, 9]"
      ]
     },
     "execution_count": 127,
     "metadata": {},
     "output_type": "execute_result"
    }
   ],
   "source": [
    "new_list_2"
   ]
  },
  {
   "cell_type": "code",
   "execution_count": 128,
   "id": "329c367a",
   "metadata": {},
   "outputs": [],
   "source": [
    "new_list_3 = [number**5 for number in list(range(0,10))]"
   ]
  },
  {
   "cell_type": "code",
   "execution_count": 129,
   "id": "ec60ed31",
   "metadata": {},
   "outputs": [
    {
     "data": {
      "text/plain": [
       "[0, 1, 32, 243, 1024, 3125, 7776, 16807, 32768, 59049]"
      ]
     },
     "execution_count": 129,
     "metadata": {},
     "output_type": "execute_result"
    }
   ],
   "source": [
    "new_list_3"
   ]
  },
  {
   "cell_type": "markdown",
   "id": "e112b162",
   "metadata": {},
   "source": [
    "### Methods and Functions"
   ]
  },
  {
   "cell_type": "code",
   "execution_count": 130,
   "id": "47b62dba",
   "metadata": {},
   "outputs": [],
   "source": [
    "my_string = 'Atil'"
   ]
  },
  {
   "cell_type": "code",
   "execution_count": 131,
   "id": "2abfc40e",
   "metadata": {},
   "outputs": [
    {
     "data": {
      "text/plain": [
       "'ATIL'"
      ]
     },
     "execution_count": 131,
     "metadata": {},
     "output_type": "execute_result"
    }
   ],
   "source": [
    "my_string.upper() "
   ]
  },
  {
   "cell_type": "code",
   "execution_count": 132,
   "id": "374be3ea",
   "metadata": {},
   "outputs": [
    {
     "data": {
      "text/plain": [
       "<function str.upper()>"
      ]
     },
     "execution_count": 132,
     "metadata": {},
     "output_type": "execute_result"
    }
   ],
   "source": [
    "my_string.upper #method/function, shift+tab for docstring"
   ]
  },
  {
   "cell_type": "code",
   "execution_count": 133,
   "id": "b1451205",
   "metadata": {},
   "outputs": [
    {
     "name": "stdout",
     "output_type": "stream",
     "text": [
      "Help on built-in function upper:\n",
      "\n",
      "upper() method of builtins.str instance\n",
      "    Return a copy of the string converted to uppercase.\n",
      "\n"
     ]
    }
   ],
   "source": [
    "help(my_string.upper)"
   ]
  },
  {
   "cell_type": "code",
   "execution_count": 134,
   "id": "b73c6c3d",
   "metadata": {},
   "outputs": [
    {
     "name": "stdout",
     "output_type": "stream",
     "text": [
      "Help on built-in function split:\n",
      "\n",
      "split(sep=None, maxsplit=-1) method of builtins.str instance\n",
      "    Return a list of the words in the string, using sep as the delimiter string.\n",
      "    \n",
      "    sep\n",
      "      The delimiter according which to split the string.\n",
      "      None (the default value) means split according to any whitespace,\n",
      "      and discard empty strings from the result.\n",
      "    maxsplit\n",
      "      Maximum number of splits to do.\n",
      "      -1 (the default value) means no limit.\n",
      "\n"
     ]
    }
   ],
   "source": [
    "help(my_string.split)"
   ]
  },
  {
   "cell_type": "code",
   "execution_count": 135,
   "id": "b4448444",
   "metadata": {},
   "outputs": [],
   "source": [
    "def hello_world():\n",
    "    print('hello')\n",
    "    print('world')"
   ]
  },
  {
   "cell_type": "code",
   "execution_count": 136,
   "id": "18933c24",
   "metadata": {},
   "outputs": [
    {
     "name": "stdout",
     "output_type": "stream",
     "text": [
      "hello\n",
      "world\n"
     ]
    }
   ],
   "source": [
    "hello_world()"
   ]
  },
  {
   "cell_type": "markdown",
   "id": "48633587",
   "metadata": {},
   "source": [
    "### Input and Return"
   ]
  },
  {
   "cell_type": "code",
   "execution_count": 137,
   "id": "2ef0da97",
   "metadata": {},
   "outputs": [],
   "source": [
    "def hello_programming(name):\n",
    "    print('hello')\n",
    "    print(name)"
   ]
  },
  {
   "cell_type": "code",
   "execution_count": 138,
   "id": "7e24ea35",
   "metadata": {},
   "outputs": [
    {
     "name": "stdout",
     "output_type": "stream",
     "text": [
      "hello\n",
      "bob\n"
     ]
    }
   ],
   "source": [
    "hello_programming('bob')"
   ]
  },
  {
   "cell_type": "code",
   "execution_count": 139,
   "id": "41a80849",
   "metadata": {},
   "outputs": [
    {
     "name": "stdout",
     "output_type": "stream",
     "text": [
      "hello\n",
      "Java\n"
     ]
    }
   ],
   "source": [
    "hello_programming('Java')"
   ]
  },
  {
   "cell_type": "code",
   "execution_count": 140,
   "id": "53adb328",
   "metadata": {},
   "outputs": [],
   "source": [
    "def hello_program(name='python'):\n",
    "    print('hello')\n",
    "    print(name)"
   ]
  },
  {
   "cell_type": "code",
   "execution_count": 141,
   "id": "45086eaf",
   "metadata": {},
   "outputs": [
    {
     "name": "stdout",
     "output_type": "stream",
     "text": [
      "hello\n",
      "python\n"
     ]
    }
   ],
   "source": [
    "hello_program()"
   ]
  },
  {
   "cell_type": "code",
   "execution_count": 142,
   "id": "b08ca98c",
   "metadata": {},
   "outputs": [
    {
     "name": "stdout",
     "output_type": "stream",
     "text": [
      "hello\n",
      "java\n"
     ]
    }
   ],
   "source": [
    "hello_program('java')"
   ]
  },
  {
   "cell_type": "code",
   "execution_count": 143,
   "id": "2c82ce8e",
   "metadata": {},
   "outputs": [],
   "source": [
    "def summ(number1,number2):\n",
    "    number3=number1+number2\n",
    "    print(number3)"
   ]
  },
  {
   "cell_type": "code",
   "execution_count": 144,
   "id": "44e69afd",
   "metadata": {},
   "outputs": [
    {
     "name": "stdout",
     "output_type": "stream",
     "text": [
      "13\n"
     ]
    }
   ],
   "source": [
    "summ(5,8)"
   ]
  },
  {
   "cell_type": "code",
   "execution_count": 145,
   "id": "88c0fde8",
   "metadata": {},
   "outputs": [
    {
     "name": "stdout",
     "output_type": "stream",
     "text": [
      "-490\n"
     ]
    }
   ],
   "source": [
    "summ(10,-500)"
   ]
  },
  {
   "cell_type": "code",
   "execution_count": 146,
   "id": "84ecb881",
   "metadata": {},
   "outputs": [],
   "source": [
    "def summation(num1,num2,num3):\n",
    "    return num1+num2+num3"
   ]
  },
  {
   "cell_type": "code",
   "execution_count": 147,
   "id": "9719a05d",
   "metadata": {},
   "outputs": [
    {
     "data": {
      "text/plain": [
       "60"
      ]
     },
     "execution_count": 147,
     "metadata": {},
     "output_type": "execute_result"
    }
   ],
   "source": [
    "summation(10,20,30)"
   ]
  },
  {
   "cell_type": "code",
   "execution_count": 148,
   "id": "32ec7a7b",
   "metadata": {},
   "outputs": [],
   "source": [
    "def control_string(s):\n",
    "    if s[0] == 'm':\n",
    "        print('mmm')"
   ]
  },
  {
   "cell_type": "code",
   "execution_count": 149,
   "id": "2f12ef45",
   "metadata": {},
   "outputs": [],
   "source": [
    "control_string('paris')"
   ]
  },
  {
   "cell_type": "code",
   "execution_count": 150,
   "id": "a972de8e",
   "metadata": {},
   "outputs": [
    {
     "name": "stdout",
     "output_type": "stream",
     "text": [
      "mmm\n"
     ]
    }
   ],
   "source": [
    "control_string('mr')"
   ]
  },
  {
   "cell_type": "markdown",
   "id": "a0f3c8b9",
   "metadata": {},
   "source": [
    "### Arbitrary arguments and key word arguments"
   ]
  },
  {
   "cell_type": "code",
   "execution_count": 151,
   "id": "b547aba1",
   "metadata": {},
   "outputs": [],
   "source": [
    "def summation_2(*args):\n",
    "    return sum(args)"
   ]
  },
  {
   "cell_type": "code",
   "execution_count": 152,
   "id": "3f5bede9",
   "metadata": {},
   "outputs": [],
   "source": [
    "#arbitrary arguments"
   ]
  },
  {
   "cell_type": "code",
   "execution_count": 153,
   "id": "b922a9b8",
   "metadata": {},
   "outputs": [
    {
     "data": {
      "text/plain": [
       "108"
      ]
     },
     "execution_count": 153,
     "metadata": {},
     "output_type": "execute_result"
    }
   ],
   "source": [
    "summation_2(39,29,10,30)"
   ]
  },
  {
   "cell_type": "code",
   "execution_count": 154,
   "id": "2b72262b",
   "metadata": {},
   "outputs": [],
   "source": [
    "def my_func(*args):\n",
    "    print(args)"
   ]
  },
  {
   "cell_type": "code",
   "execution_count": 155,
   "id": "2fa2b1ad",
   "metadata": {},
   "outputs": [
    {
     "name": "stdout",
     "output_type": "stream",
     "text": [
      "(10, 20, 30)\n"
     ]
    }
   ],
   "source": [
    "my_func(10,20,30)"
   ]
  },
  {
   "cell_type": "code",
   "execution_count": 156,
   "id": "76edb6b7",
   "metadata": {},
   "outputs": [],
   "source": [
    "def example_func(**kwargs): #takes in key value pairs as argument\n",
    "    print(kwargs)"
   ]
  },
  {
   "cell_type": "code",
   "execution_count": 157,
   "id": "f1b1ff1c",
   "metadata": {},
   "outputs": [
    {
     "name": "stdout",
     "output_type": "stream",
     "text": [
      "{'run': 100, 'swim': 200, 'basketball': 300}\n"
     ]
    }
   ],
   "source": [
    "example_func(run=100,swim=200,basketball=300)"
   ]
  },
  {
   "cell_type": "code",
   "execution_count": 158,
   "id": "00799477",
   "metadata": {},
   "outputs": [
    {
     "name": "stdout",
     "output_type": "stream",
     "text": [
      "{'a': 1, 'b': 2}\n"
     ]
    }
   ],
   "source": [
    "example_func(a=1,b=2)"
   ]
  },
  {
   "cell_type": "code",
   "execution_count": 159,
   "id": "37a22ce5",
   "metadata": {},
   "outputs": [],
   "source": [
    "def keyword_func(**kwargs):\n",
    "    if 'Metallica' in kwargs:\n",
    "        print('heavy metal!')\n",
    "    else:\n",
    "        print('rock is dead')"
   ]
  },
  {
   "cell_type": "code",
   "execution_count": 160,
   "id": "a6956b08",
   "metadata": {},
   "outputs": [
    {
     "name": "stdout",
     "output_type": "stream",
     "text": [
      "heavy metal!\n"
     ]
    }
   ],
   "source": [
    "keyword_func(Metallica=10,Madonna=5,Muslum=4)"
   ]
  },
  {
   "cell_type": "code",
   "execution_count": 161,
   "id": "5138877c",
   "metadata": {},
   "outputs": [
    {
     "name": "stdout",
     "output_type": "stream",
     "text": [
      "rock is dead\n"
     ]
    }
   ],
   "source": [
    "keyword_func(Madonna=8,Mickey=4)"
   ]
  },
  {
   "cell_type": "code",
   "execution_count": 162,
   "id": "e4a04eaf",
   "metadata": {},
   "outputs": [],
   "source": [
    "def divide(number):\n",
    "    return number/2"
   ]
  },
  {
   "cell_type": "code",
   "execution_count": 163,
   "id": "8f20924d",
   "metadata": {},
   "outputs": [
    {
     "data": {
      "text/plain": [
       "5.0"
      ]
     },
     "execution_count": 163,
     "metadata": {},
     "output_type": "execute_result"
    }
   ],
   "source": [
    "divide(10)"
   ]
  },
  {
   "cell_type": "code",
   "execution_count": 164,
   "id": "1b6b4e8d",
   "metadata": {},
   "outputs": [],
   "source": [
    "my_list=[1,2,3,4,5,6,7,8]"
   ]
  },
  {
   "cell_type": "code",
   "execution_count": 165,
   "id": "cf11284a",
   "metadata": {},
   "outputs": [
    {
     "name": "stdout",
     "output_type": "stream",
     "text": [
      "0.5\n",
      "1.0\n",
      "1.5\n",
      "2.0\n",
      "2.5\n",
      "3.0\n",
      "3.5\n",
      "4.0\n"
     ]
    }
   ],
   "source": [
    "for num in my_list:\n",
    "    print(divide(num))"
   ]
  },
  {
   "cell_type": "markdown",
   "id": "ef34945f",
   "metadata": {},
   "source": [
    "### map"
   ]
  },
  {
   "cell_type": "code",
   "execution_count": 166,
   "id": "5e9c1696",
   "metadata": {},
   "outputs": [
    {
     "data": {
      "text/plain": [
       "<map at 0x7f7a68dd0520>"
      ]
     },
     "execution_count": 166,
     "metadata": {},
     "output_type": "execute_result"
    }
   ],
   "source": [
    "map(divide,my_list) #hash is memory location"
   ]
  },
  {
   "cell_type": "code",
   "execution_count": 167,
   "id": "cec09e4a",
   "metadata": {},
   "outputs": [
    {
     "data": {
      "text/plain": [
       "[0.5, 1.0, 1.5, 2.0, 2.5, 3.0, 3.5, 4.0]"
      ]
     },
     "execution_count": 167,
     "metadata": {},
     "output_type": "execute_result"
    }
   ],
   "source": [
    "list(map(divide,my_list)) #no parentheses in function call - just function name"
   ]
  },
  {
   "cell_type": "code",
   "execution_count": 168,
   "id": "6f3690df",
   "metadata": {},
   "outputs": [],
   "source": [
    "def control_string(string):\n",
    "    return 'Metallica' in string"
   ]
  },
  {
   "cell_type": "code",
   "execution_count": 169,
   "id": "edadd957",
   "metadata": {},
   "outputs": [
    {
     "data": {
      "text/plain": [
       "True"
      ]
     },
     "execution_count": 169,
     "metadata": {},
     "output_type": "execute_result"
    }
   ],
   "source": [
    "control_string('Metallica sdf')"
   ]
  },
  {
   "cell_type": "code",
   "execution_count": 170,
   "id": "2cd5240a",
   "metadata": {},
   "outputs": [],
   "source": [
    "my_artist_list = ['a','b','c','Metallica','Metallica ssss']"
   ]
  },
  {
   "cell_type": "code",
   "execution_count": 171,
   "id": "5c39b13d",
   "metadata": {},
   "outputs": [
    {
     "data": {
      "text/plain": [
       "[False, False, False, True, True]"
      ]
     },
     "execution_count": 171,
     "metadata": {},
     "output_type": "execute_result"
    }
   ],
   "source": [
    "list(map(control_string,my_artist_list))"
   ]
  },
  {
   "cell_type": "markdown",
   "id": "620bdb97",
   "metadata": {},
   "source": [
    "### filter"
   ]
  },
  {
   "cell_type": "code",
   "execution_count": 172,
   "id": "08820240",
   "metadata": {},
   "outputs": [
    {
     "data": {
      "text/plain": [
       "<filter at 0x7f7a68dcd3a0>"
      ]
     },
     "execution_count": 172,
     "metadata": {},
     "output_type": "execute_result"
    }
   ],
   "source": [
    "filter(control_string,my_artist_list)"
   ]
  },
  {
   "cell_type": "code",
   "execution_count": 173,
   "id": "ea68486f",
   "metadata": {},
   "outputs": [
    {
     "data": {
      "text/plain": [
       "['Metallica', 'Metallica ssss']"
      ]
     },
     "execution_count": 173,
     "metadata": {},
     "output_type": "execute_result"
    }
   ],
   "source": [
    "list(filter(control_string,my_artist_list))"
   ]
  },
  {
   "cell_type": "markdown",
   "id": "d7fed53e",
   "metadata": {},
   "source": [
    "### Scope"
   ]
  },
  {
   "cell_type": "code",
   "execution_count": 174,
   "id": "30de5b31",
   "metadata": {},
   "outputs": [],
   "source": [
    "number = 10\n",
    "def multiply(num):\n",
    "    number=5\n",
    "    return num*number"
   ]
  },
  {
   "cell_type": "code",
   "execution_count": 175,
   "id": "b2a8e84c",
   "metadata": {},
   "outputs": [
    {
     "data": {
      "text/plain": [
       "50"
      ]
     },
     "execution_count": 175,
     "metadata": {},
     "output_type": "execute_result"
    }
   ],
   "source": [
    "multiply(10)"
   ]
  },
  {
   "cell_type": "code",
   "execution_count": 176,
   "id": "d388dae8",
   "metadata": {},
   "outputs": [
    {
     "name": "stdout",
     "output_type": "stream",
     "text": [
      "10\n"
     ]
    }
   ],
   "source": [
    "print(number)"
   ]
  },
  {
   "cell_type": "code",
   "execution_count": 177,
   "id": "84859ede",
   "metadata": {},
   "outputs": [],
   "source": [
    "a=10\n",
    "a=5"
   ]
  },
  {
   "cell_type": "code",
   "execution_count": 178,
   "id": "be19104a",
   "metadata": {},
   "outputs": [
    {
     "name": "stdout",
     "output_type": "stream",
     "text": [
      "5\n"
     ]
    }
   ],
   "source": [
    "print(a)"
   ]
  },
  {
   "cell_type": "markdown",
   "id": "ec75fd41",
   "metadata": {},
   "source": [
    "# LEGB\n",
    "# L->Local\n",
    "# E -> Enclosing\n",
    "# G -> Global\n",
    "# B -> Built-In"
   ]
  },
  {
   "cell_type": "code",
   "execution_count": 179,
   "id": "73bedca2",
   "metadata": {},
   "outputs": [],
   "source": [
    "my_string='Atil'\n",
    "#GLOBAL\n",
    "def my_func():\n",
    "    #ENCLOSING\n",
    "    my_string='James' \n",
    "    def my_func_2():\n",
    "        #LOCAL\n",
    "        my_string='Lars'\n",
    "        print(my_string)\n",
    "    \n",
    "    my_func_2()"
   ]
  },
  {
   "cell_type": "code",
   "execution_count": 180,
   "id": "82f8490c",
   "metadata": {},
   "outputs": [
    {
     "name": "stdout",
     "output_type": "stream",
     "text": [
      "Lars\n"
     ]
    }
   ],
   "source": [
    "my_func()"
   ]
  },
  {
   "cell_type": "code",
   "execution_count": 181,
   "id": "b52116c4",
   "metadata": {},
   "outputs": [
    {
     "data": {
      "text/plain": [
       "'Atil'"
      ]
     },
     "execution_count": 181,
     "metadata": {},
     "output_type": "execute_result"
    }
   ],
   "source": [
    "my_string"
   ]
  },
  {
   "cell_type": "code",
   "execution_count": 182,
   "id": "ac283381",
   "metadata": {},
   "outputs": [],
   "source": [
    "y=10\n",
    "def func_new(y):\n",
    "    print(y)\n",
    "    y=5\n",
    "    print(y)\n",
    "    return y"
   ]
  },
  {
   "cell_type": "code",
   "execution_count": 183,
   "id": "322ae224",
   "metadata": {},
   "outputs": [
    {
     "name": "stdout",
     "output_type": "stream",
     "text": [
      "10\n",
      "5\n"
     ]
    },
    {
     "data": {
      "text/plain": [
       "5"
      ]
     },
     "execution_count": 183,
     "metadata": {},
     "output_type": "execute_result"
    }
   ],
   "source": [
    "func_new(10)"
   ]
  },
  {
   "cell_type": "code",
   "execution_count": 184,
   "id": "be1aa9f4",
   "metadata": {},
   "outputs": [
    {
     "data": {
      "text/plain": [
       "10"
      ]
     },
     "execution_count": 184,
     "metadata": {},
     "output_type": "execute_result"
    }
   ],
   "source": [
    "y "
   ]
  },
  {
   "cell_type": "code",
   "execution_count": 185,
   "id": "a05bf634",
   "metadata": {},
   "outputs": [
    {
     "name": "stdout",
     "output_type": "stream",
     "text": [
      "10\n",
      "5\n"
     ]
    }
   ],
   "source": [
    "y=func_new(y)"
   ]
  },
  {
   "cell_type": "code",
   "execution_count": 186,
   "id": "35515306",
   "metadata": {},
   "outputs": [
    {
     "data": {
      "text/plain": [
       "5"
      ]
     },
     "execution_count": 186,
     "metadata": {},
     "output_type": "execute_result"
    }
   ],
   "source": [
    "y"
   ]
  },
  {
   "cell_type": "code",
   "execution_count": 187,
   "id": "5e88ee1c",
   "metadata": {},
   "outputs": [],
   "source": [
    "y=10\n",
    "def func_new():\n",
    "    global y\n",
    "    y=5\n",
    "    print(y)"
   ]
  },
  {
   "cell_type": "code",
   "execution_count": 188,
   "id": "58f56a9a",
   "metadata": {},
   "outputs": [
    {
     "name": "stdout",
     "output_type": "stream",
     "text": [
      "5\n"
     ]
    }
   ],
   "source": [
    "func_new()"
   ]
  },
  {
   "cell_type": "markdown",
   "id": "3c083d8b",
   "metadata": {},
   "source": [
    "### Object Orientated Programming"
   ]
  },
  {
   "cell_type": "markdown",
   "id": "8dd8db28",
   "metadata": {},
   "source": [
    "### class"
   ]
  },
  {
   "cell_type": "code",
   "execution_count": 189,
   "id": "c4d835c2",
   "metadata": {},
   "outputs": [],
   "source": [
    "#class is biggest structure architecturally"
   ]
  },
  {
   "cell_type": "code",
   "execution_count": 190,
   "id": "53593c46",
   "metadata": {},
   "outputs": [],
   "source": [
    "my_list = list() #create an instance of class"
   ]
  },
  {
   "cell_type": "code",
   "execution_count": 191,
   "id": "0308b2a8",
   "metadata": {},
   "outputs": [],
   "source": [
    "#snake = my_string\n",
    "#classes upercase\n",
    "class Musician():\n",
    "    \n",
    "    job = 'musician' #default attribute\n",
    "    \n",
    "    #whatever happens in init will happen instantly\n",
    "    #self refers to Musician object\n",
    "    def __init__(self, name, age):#initializer function\n",
    "        self.name=name\n",
    "        self.age=age\n",
    "        \n",
    "    #METHODS\n",
    "    \n",
    "    def sing(self): #self must be in every method in class\n",
    "        print('we are the champions!')\n",
    "        "
   ]
  },
  {
   "cell_type": "code",
   "execution_count": 192,
   "id": "5494884c",
   "metadata": {},
   "outputs": [],
   "source": [
    "my_musician=Musician('James',50)"
   ]
  },
  {
   "cell_type": "code",
   "execution_count": 193,
   "id": "be24c14e",
   "metadata": {},
   "outputs": [
    {
     "data": {
      "text/plain": [
       "50"
      ]
     },
     "execution_count": 193,
     "metadata": {},
     "output_type": "execute_result"
    }
   ],
   "source": [
    "my_musician.age"
   ]
  },
  {
   "cell_type": "code",
   "execution_count": 194,
   "id": "d15b76ba",
   "metadata": {},
   "outputs": [
    {
     "data": {
      "text/plain": [
       "'James'"
      ]
     },
     "execution_count": 194,
     "metadata": {},
     "output_type": "execute_result"
    }
   ],
   "source": [
    "my_musician.name"
   ]
  },
  {
   "cell_type": "code",
   "execution_count": 195,
   "id": "0ec19608",
   "metadata": {},
   "outputs": [],
   "source": [
    "my_musician.name='Lars'"
   ]
  },
  {
   "cell_type": "code",
   "execution_count": 196,
   "id": "8c88a5df",
   "metadata": {},
   "outputs": [
    {
     "data": {
      "text/plain": [
       "'Lars'"
      ]
     },
     "execution_count": 196,
     "metadata": {},
     "output_type": "execute_result"
    }
   ],
   "source": [
    "my_musician.name #THESE ARE CALLED ATTRIBUTES"
   ]
  },
  {
   "cell_type": "code",
   "execution_count": 197,
   "id": "9cacf6b3",
   "metadata": {},
   "outputs": [
    {
     "data": {
      "text/plain": [
       "'musician'"
      ]
     },
     "execution_count": 197,
     "metadata": {},
     "output_type": "execute_result"
    }
   ],
   "source": [
    "my_musician.job"
   ]
  },
  {
   "cell_type": "code",
   "execution_count": 198,
   "id": "527c4dba",
   "metadata": {},
   "outputs": [
    {
     "name": "stdout",
     "output_type": "stream",
     "text": [
      "we are the champions!\n"
     ]
    }
   ],
   "source": [
    "my_musician.sing()"
   ]
  },
  {
   "cell_type": "code",
   "execution_count": 199,
   "id": "b22bf54d",
   "metadata": {},
   "outputs": [],
   "source": [
    "class Dog():\n",
    "    \n",
    "    year_factor = 7\n",
    "    \n",
    "    def __init__(self,age):\n",
    "        self.age=age\n",
    "        self.name = 'Bar'\n",
    "    def calculation(self):\n",
    "        return self.age*self.year_factor"
   ]
  },
  {
   "cell_type": "code",
   "execution_count": 200,
   "id": "01390d43",
   "metadata": {},
   "outputs": [],
   "source": [
    "my_dog = Dog(3)"
   ]
  },
  {
   "cell_type": "code",
   "execution_count": 201,
   "id": "d5a1db7d",
   "metadata": {},
   "outputs": [
    {
     "data": {
      "text/plain": [
       "21"
      ]
     },
     "execution_count": 201,
     "metadata": {},
     "output_type": "execute_result"
    }
   ],
   "source": [
    "my_dog.calculation()"
   ]
  },
  {
   "cell_type": "code",
   "execution_count": 202,
   "id": "3d08cbcc",
   "metadata": {},
   "outputs": [
    {
     "data": {
      "text/plain": [
       "'Bar'"
      ]
     },
     "execution_count": 202,
     "metadata": {},
     "output_type": "execute_result"
    }
   ],
   "source": [
    "my_dog.name"
   ]
  },
  {
   "cell_type": "markdown",
   "id": "ba0d865b",
   "metadata": {},
   "source": [
    "# Inheritance"
   ]
  },
  {
   "cell_type": "code",
   "execution_count": 203,
   "id": "f52d6cb6",
   "metadata": {},
   "outputs": [],
   "source": [
    "class Class1():\n",
    "    \n",
    "    def __init__(self):\n",
    "        print('Class 1 created')\n",
    "    \n",
    "    def method_1(self):\n",
    "        print('method 1')\n",
    "    \n",
    "    def method_2(self):\n",
    "        print('method 2')"
   ]
  },
  {
   "cell_type": "code",
   "execution_count": 204,
   "id": "56088aa7",
   "metadata": {},
   "outputs": [
    {
     "name": "stdout",
     "output_type": "stream",
     "text": [
      "Class 1 created\n"
     ]
    }
   ],
   "source": [
    "my_instance = Class1()"
   ]
  },
  {
   "cell_type": "code",
   "execution_count": 205,
   "id": "c11892fd",
   "metadata": {},
   "outputs": [
    {
     "name": "stdout",
     "output_type": "stream",
     "text": [
      "method 1\n"
     ]
    }
   ],
   "source": [
    "my_instance.method_1()"
   ]
  },
  {
   "cell_type": "code",
   "execution_count": 206,
   "id": "7d860589",
   "metadata": {},
   "outputs": [
    {
     "name": "stdout",
     "output_type": "stream",
     "text": [
      "method 2\n"
     ]
    }
   ],
   "source": [
    "my_instance.method_2()"
   ]
  },
  {
   "cell_type": "code",
   "execution_count": 207,
   "id": "ae29dce9",
   "metadata": {},
   "outputs": [],
   "source": [
    "class Class2(Class1):\n",
    "    \n",
    "    def __init__(self):\n",
    "        Class1.__init__(self)\n",
    "        print('Class 2 created')\n",
    "    \n",
    "    def method_3(self):\n",
    "        print('method 3')\n",
    "    \n",
    "    #override\n",
    "    \n",
    "    def method_1(self):\n",
    "        print('method 1 override')"
   ]
  },
  {
   "cell_type": "code",
   "execution_count": 208,
   "id": "0c249be8",
   "metadata": {},
   "outputs": [
    {
     "name": "stdout",
     "output_type": "stream",
     "text": [
      "Class 1 created\n",
      "Class 2 created\n"
     ]
    }
   ],
   "source": [
    "my_instance_2 = Class2()"
   ]
  },
  {
   "cell_type": "code",
   "execution_count": 209,
   "id": "3eecde2b",
   "metadata": {},
   "outputs": [
    {
     "name": "stdout",
     "output_type": "stream",
     "text": [
      "method 2\n"
     ]
    }
   ],
   "source": [
    "my_instance_2.method_2()"
   ]
  },
  {
   "cell_type": "code",
   "execution_count": 210,
   "id": "1cba561c",
   "metadata": {},
   "outputs": [
    {
     "name": "stdout",
     "output_type": "stream",
     "text": [
      "method 3\n"
     ]
    }
   ],
   "source": [
    "my_instance_2.method_3()"
   ]
  },
  {
   "cell_type": "code",
   "execution_count": 211,
   "id": "fbe7db95",
   "metadata": {},
   "outputs": [
    {
     "name": "stdout",
     "output_type": "stream",
     "text": [
      "method 1 override\n"
     ]
    }
   ],
   "source": [
    "my_instance_2.method_1()"
   ]
  },
  {
   "cell_type": "code",
   "execution_count": 212,
   "id": "18cf95a8",
   "metadata": {},
   "outputs": [
    {
     "name": "stdout",
     "output_type": "stream",
     "text": [
      "method 1\n"
     ]
    }
   ],
   "source": [
    "my_instance.method_1()"
   ]
  },
  {
   "cell_type": "markdown",
   "id": "03045111",
   "metadata": {},
   "source": [
    "### Special Methods"
   ]
  },
  {
   "cell_type": "code",
   "execution_count": 213,
   "id": "d196ab0b",
   "metadata": {},
   "outputs": [],
   "source": [
    "class Fruits():\n",
    "    def __init__(self,name,calories):\n",
    "        self.name=name\n",
    "        self.calories=calories\n",
    "        \n",
    "    #will do the following function when print is called\n",
    "    \n",
    "    def __str__(self): #string representation\n",
    "        return f\"{self.name} has {self.calories}\"\n",
    "    \n",
    "    def __len__(self):\n",
    "        return self.calories"
   ]
  },
  {
   "cell_type": "code",
   "execution_count": 214,
   "id": "c82063de",
   "metadata": {},
   "outputs": [],
   "source": [
    "my_fruit=Fruits('Banana',200)"
   ]
  },
  {
   "cell_type": "code",
   "execution_count": 215,
   "id": "abbb60bc",
   "metadata": {},
   "outputs": [
    {
     "data": {
      "text/plain": [
       "200"
      ]
     },
     "execution_count": 215,
     "metadata": {},
     "output_type": "execute_result"
    }
   ],
   "source": [
    "my_fruit.calories"
   ]
  },
  {
   "cell_type": "code",
   "execution_count": 216,
   "id": "a68a50b3",
   "metadata": {},
   "outputs": [
    {
     "name": "stdout",
     "output_type": "stream",
     "text": [
      "Banana has 200\n"
     ]
    }
   ],
   "source": [
    "print(my_fruit)"
   ]
  },
  {
   "cell_type": "code",
   "execution_count": 217,
   "id": "a97d0b7f",
   "metadata": {},
   "outputs": [],
   "source": [
    "my_list=['a','b',3]"
   ]
  },
  {
   "cell_type": "code",
   "execution_count": 218,
   "id": "9a23aad2",
   "metadata": {},
   "outputs": [
    {
     "name": "stdout",
     "output_type": "stream",
     "text": [
      "['a', 'b', 3]\n"
     ]
    }
   ],
   "source": [
    "print(my_list)"
   ]
  },
  {
   "cell_type": "code",
   "execution_count": 219,
   "id": "362bd708",
   "metadata": {},
   "outputs": [
    {
     "data": {
      "text/plain": [
       "3"
      ]
     },
     "execution_count": 219,
     "metadata": {},
     "output_type": "execute_result"
    }
   ],
   "source": [
    "len(my_list)"
   ]
  },
  {
   "cell_type": "code",
   "execution_count": 220,
   "id": "8d68e6df",
   "metadata": {},
   "outputs": [
    {
     "data": {
      "text/plain": [
       "200"
      ]
     },
     "execution_count": 220,
     "metadata": {},
     "output_type": "execute_result"
    }
   ],
   "source": [
    "len(my_fruit)"
   ]
  },
  {
   "cell_type": "markdown",
   "id": "9fa9c2e8",
   "metadata": {},
   "source": [
    "### Error Handling"
   ]
  },
  {
   "cell_type": "code",
   "execution_count": 221,
   "id": "564fbe9a",
   "metadata": {},
   "outputs": [],
   "source": [
    "def summation(num1,num2):\n",
    "    return num1+num2"
   ]
  },
  {
   "cell_type": "code",
   "execution_count": 222,
   "id": "34ecbb2b",
   "metadata": {},
   "outputs": [
    {
     "name": "stdout",
     "output_type": "stream",
     "text": [
      "enter number:3\n"
     ]
    }
   ],
   "source": [
    "x=input('enter number:')"
   ]
  },
  {
   "cell_type": "code",
   "execution_count": 223,
   "id": "ea8077b9",
   "metadata": {},
   "outputs": [
    {
     "name": "stdout",
     "output_type": "stream",
     "text": [
      "enter number:4\n"
     ]
    }
   ],
   "source": [
    "y=input('enter number:')"
   ]
  },
  {
   "cell_type": "code",
   "execution_count": 224,
   "id": "a7043d38",
   "metadata": {},
   "outputs": [],
   "source": [
    "def numberpower(num1):\n",
    "    return num1**2"
   ]
  },
  {
   "cell_type": "code",
   "execution_count": 225,
   "id": "4a0b9406",
   "metadata": {},
   "outputs": [
    {
     "data": {
      "text/plain": [
       "9"
      ]
     },
     "execution_count": 225,
     "metadata": {},
     "output_type": "execute_result"
    }
   ],
   "source": [
    "numberpower(3)"
   ]
  },
  {
   "cell_type": "markdown",
   "id": "e836f27a",
   "metadata": {},
   "source": [
    "### try, except, finally\n",
    "\n",
    "just google\n"
   ]
  },
  {
   "cell_type": "markdown",
   "id": "128a37bc",
   "metadata": {},
   "source": [
    "### Modules and Packages"
   ]
  },
  {
   "cell_type": "code",
   "execution_count": null,
   "id": "46e7638d",
   "metadata": {},
   "outputs": [],
   "source": [
    "import numpy as np"
   ]
  },
  {
   "cell_type": "markdown",
   "id": "f62bc772",
   "metadata": {},
   "source": [
    "### Imported vs Direct"
   ]
  },
  {
   "cell_type": "markdown",
   "id": "cc03248a",
   "metadata": {},
   "source": [
    "just google"
   ]
  },
  {
   "cell_type": "code",
   "execution_count": null,
   "id": "0b09918b",
   "metadata": {},
   "outputs": [],
   "source": []
  }
 ],
 "metadata": {
  "kernelspec": {
   "display_name": "Python 3 (ipykernel)",
   "language": "python",
   "name": "python3"
  },
  "language_info": {
   "codemirror_mode": {
    "name": "ipython",
    "version": 3
   },
   "file_extension": ".py",
   "mimetype": "text/x-python",
   "name": "python",
   "nbconvert_exporter": "python",
   "pygments_lexer": "ipython3",
   "version": "3.9.7"
  }
 },
 "nbformat": 4,
 "nbformat_minor": 5
}
